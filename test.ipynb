{
 "cells": [
  {
   "cell_type": "code",
   "execution_count": null,
   "id": "53183538-d6fe-4d65-bb04-39f550333b06",
   "metadata": {
    "tags": []
   },
   "outputs": [],
   "source": [
    "import os\n",
    "import warnings\n",
    "import PIL\n",
    "from PIL import Image\n",
    "from typing import TYPE_CHECKING, Any, Callable, Dict, List, Optional, Tuple\n",
    "\n",
    "import torch\n",
    "import argparse\n",
    "import whisper\n",
    "import numpy as np\n",
    "\n",
    "from gradio import processing_utils\n",
    "\n",
    "from modeling.BaseModel import BaseModel\n",
    "from modeling import build_model\n",
    "from utils.distributed import init_distributed\n",
    "from utils.arguments import load_opt_from_config_files\n",
    "from utils.constants import COCO_PANOPTIC_CLASSES\n",
    "\n",
    "from demo.seem.tasks import *\n",
    "\n",
    "conf_files = \"configs/seem/focall_unicl_lang_demo.yaml\"\n",
    "\n",
    "opt = load_opt_from_config_files([conf_files])\n",
    "opt = init_distributed(opt)"
   ]
  },
  {
   "cell_type": "code",
   "execution_count": null,
   "id": "1807b18d-8e9f-4485-8d4d-e90b4803b09f",
   "metadata": {
    "tags": []
   },
   "outputs": [],
   "source": [
    "!source /etc/network_turbo\n",
    "\n",
    "\n",
    "cur_model = 'None'\n",
    "pretrained_pth = '~/autodl-tmp'\n",
    "\n",
    "if 'focalt' in conf_files:\n",
    "    pretrained_pth = os.path.join(pretrained_pth, \"seem_focalt_v0.pt\")\n",
    "    cur_model = 'Focal-T'\n",
    "elif 'focall' in conf_files:\n",
    "    pretrained_pth = os.path.join(pretrained_pth, \"seem_focall_v0.pt\")\n",
    "    cur_model = 'Focal-L'\n",
    "    # this\n",
    "\n",
    "model = BaseModel(opt, build_model(opt)).from_pretrained(pretrained_pth).eval().cuda()\n",
    "\n",
    "with torch.no_grad():\n",
    "    model.model.sem_seg_head.predictor.lang_encoder.get_text_embeddings(COCO_PANOPTIC_CLASSES + [\"background\"], is_eval=True)\n"
   ]
  },
  {
   "cell_type": "code",
   "execution_count": null,
   "id": "d32d6823-ddd6-45b0-abee-a6f4c36a4677",
   "metadata": {},
   "outputs": [],
   "source": [
    "audio = whisper.load_model(\"base\")\n",
    "\n",
    "@torch.no_grad()\n",
    "def inference(image, task, *args, **kwargs):\n",
    "    with torch.autocast(device_type='cuda', dtype=torch.float16):\n",
    "        if 'Video' in task:\n",
    "            return interactive_infer_video(model, audio, image, task, *args, **kwargs)\n",
    "        else:\n",
    "            return interactive_infer_image(model, audio, image, task, *args, **kwargs)\n"
   ]
  },
  {
   "cell_type": "code",
   "execution_count": null,
   "id": "24728521-e600-470b-93a1-520d8a4125e5",
   "metadata": {},
   "outputs": [],
   "source": [
    "from PIL import Image\n",
    "input_image = Image.open('../2.jpg')\n"
   ]
  },
  {
   "cell_type": "code",
   "execution_count": null,
   "id": "c6f99e93-fb31-44ff-a4a5-d19181b6052b",
   "metadata": {
    "tags": []
   },
   "outputs": [],
   "source": [
    "image = interactive_infer_image(model, audio, input_image, ['Task'])\n",
    "print(image)"
   ]
  }
 ],
 "metadata": {
  "kernelspec": {
   "display_name": "Python 3 (ipykernel)",
   "language": "python",
   "name": "python3"
  },
  "language_info": {
   "codemirror_mode": {
    "name": "ipython",
    "version": 3
   },
   "file_extension": ".py",
   "mimetype": "text/x-python",
   "name": "python",
   "nbconvert_exporter": "python",
   "pygments_lexer": "ipython3",
   "version": "3.8.10"
  }
 },
 "nbformat": 4,
 "nbformat_minor": 5
}
